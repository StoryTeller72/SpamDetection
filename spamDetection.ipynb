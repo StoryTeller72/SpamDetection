{
 "cells": [
  {
   "cell_type": "code",
   "execution_count": 62,
   "id": "a87d7aac",
   "metadata": {},
   "outputs": [],
   "source": [
    "import pandas as pd\n",
    "import numpy as np\n",
    "import seaborn as sns\n",
    "import matplotlib.pyplot as plt\n",
    "import spacy\n",
    "import re\n",
    "from sklearn.model_selection import train_test_split\n",
    "from sklearn.metrics import f1_score, precision_score, recall_score, accuracy_score\n"
   ]
  },
  {
   "cell_type": "markdown",
   "id": "16e6ddf3",
   "metadata": {},
   "source": [
    "# Data analysis"
   ]
  },
  {
   "cell_type": "code",
   "execution_count": 2,
   "id": "6029cf2d",
   "metadata": {},
   "outputs": [
    {
     "name": "stderr",
     "output_type": "stream",
     "text": [
      "<>:1: SyntaxWarning: invalid escape sequence '\\c'\n",
      "<>:1: SyntaxWarning: invalid escape sequence '\\c'\n",
      "C:\\Users\\User\\AppData\\Local\\Temp\\ipykernel_18256\\778115968.py:1: SyntaxWarning: invalid escape sequence '\\c'\n",
      "  data = pd.read_csv('Data\\combined_data.csv')\n"
     ]
    }
   ],
   "source": [
    "data = pd.read_csv('Data\\combined_data.csv')"
   ]
  },
  {
   "cell_type": "code",
   "execution_count": 3,
   "id": "4ac6692a",
   "metadata": {},
   "outputs": [
    {
     "name": "stdout",
     "output_type": "stream",
     "text": [
      "<class 'pandas.core.frame.DataFrame'>\n",
      "RangeIndex: 83448 entries, 0 to 83447\n",
      "Data columns (total 2 columns):\n",
      " #   Column  Non-Null Count  Dtype \n",
      "---  ------  --------------  ----- \n",
      " 0   label   83448 non-null  int64 \n",
      " 1   text    83448 non-null  object\n",
      "dtypes: int64(1), object(1)\n",
      "memory usage: 1.3+ MB\n"
     ]
    }
   ],
   "source": [
    "data.info()"
   ]
  },
  {
   "cell_type": "code",
   "execution_count": 4,
   "id": "b626633d",
   "metadata": {},
   "outputs": [
    {
     "data": {
      "image/png": "[encoded data removed]",
      "text/plain": [
       "<Figure size 300x300 with 1 Axes>"
      ]
     },
     "metadata": {},
     "output_type": "display_data"
    }
   ],
   "source": [
    "def draw_target_percents(data, target):\n",
    "    percent_class = (data[target].value_counts() / data.shape[0] * 100)\n",
    "    colors = ['green', 'orange']\n",
    "    percent_class.plot(kind='bar', label='Churn', ylabel='Percent', color=colors, figsize=(3,3))\n",
    "    plt.title('Spam')\n",
    "    for index in percent_class.keys():\n",
    "        plt.text(index, percent_class[index], '{:.2f}%'.format(percent_class[index]),ha='center')\n",
    "draw_target_percents(data, 'label')"
   ]
  },
  {
   "cell_type": "markdown",
   "id": "5dc54351",
   "metadata": {},
   "source": [
    "# Text preprocessing"
   ]
  },
  {
   "cell_type": "code",
   "execution_count": 13,
   "id": "242f9921",
   "metadata": {},
   "outputs": [],
   "source": [
    "nlp = spacy.load(\"en_core_web_sm\")\n",
    "\n",
    "def preprocess_text(text):\n",
    "    \"\"\"\n",
    "    Полная предобработка текста: очистка, лемматизация, удаление стоп-слов\n",
    "    \"\"\"\n",
    "    # Очистка текста\n",
    "    text = re.sub(r'[^a-zA-Z\\s]', '', text)  # Удаляем все кроме букв и пробелов\n",
    "    text = text.lower().strip()  # Приводим к нижнему регистру\n",
    "    \n",
    "    # Лемматизация\n",
    "    doc = nlp(text)\n",
    "    \n",
    "    # Извлекаем леммы, исключая стоп-слова, пунктуацию и пробелы\n",
    "    lemmas = [\n",
    "        token.lemma_ \n",
    "        for token in doc \n",
    "        if not token.is_stop \n",
    "           and not token.is_punct \n",
    "           and not token.is_space\n",
    "           and len(token.lemma_) > 2  # Исключаем короткие слова\n",
    "    ]\n",
    "    \n",
    "    return lemmas"
   ]
  },
  {
   "cell_type": "code",
   "execution_count": 16,
   "id": "27042c00",
   "metadata": {},
   "outputs": [],
   "source": [
    "data['text_clean'] = data['text'].apply(preprocess_text)"
   ]
  },
  {
   "cell_type": "code",
   "execution_count": 17,
   "id": "1b913559",
   "metadata": {},
   "outputs": [],
   "source": [
    "data.to_csv('Data/cleanData.csv')"
   ]
  },
  {
   "cell_type": "code",
   "execution_count": 28,
   "id": "01ee9f45",
   "metadata": {},
   "outputs": [],
   "source": [
    "X, Y = data['text_clean'], data['label']\n",
    "X_train, X_test, Y_train, Y_test = train_test_split(X, Y, test_size=0.2, stratify=Y)"
   ]
  },
  {
   "cell_type": "markdown",
   "id": "3cff519e",
   "metadata": {},
   "source": [
    "# self-written Naive Bayes "
   ]
  },
  {
   "cell_type": "code",
   "execution_count": null,
   "id": "39a3fad1",
   "metadata": {},
   "outputs": [],
   "source": [
    "from collections import defaultdict\n",
    "\n",
    "\n",
    "class NaiveBayes:\n",
    "    def __init__(self, delta=1, minP=0.00000001):\n",
    "        self.delta= delta\n",
    "        self.vocab = set()\n",
    "        self.P_class = defaultdict(int)\n",
    "        self.cnt_x_spam = defaultdict(int)\n",
    "        self.cnt_x_not_spam = defaultdict(int)\n",
    "        self.P_x_y_spam = defaultdict(int)\n",
    "        self.P_x_y_NOTspam = defaultdict(int)\n",
    "        self.minP = minP\n",
    "        \n",
    "    def fit(self, X, Y):\n",
    "        self.P_class['spam'] = Y.sum() / Y.shape[0]\n",
    "        self.P_class['ham'] = 1 - self.P_class['spam']\n",
    "        \n",
    "        for text, label in zip(X,Y):\n",
    "            for word in text:\n",
    "                self.vocab.add(word)\n",
    "                if label == 1:\n",
    "                    self.cnt_x_spam[word] += 1\n",
    "                else:\n",
    "                    self.cnt_x_not_spam[word] += 1\n",
    "            \n",
    "        \n",
    "        amt_words_in_spam = sum(self.cnt_x_spam.values())\n",
    "        amt_words_in_not_spam = sum(self.cnt_x_not_spam.values())\n",
    "        \n",
    "        for word, freq in self.cnt_x_spam.items():\n",
    "            P_x_y = (self.delta + freq) / (self.delta * len(self.vocab)  + amt_words_in_spam)\n",
    "            if P_x_y > self.minP:\n",
    "                self.P_x_y_spam[word] = P_x_y\n",
    "            \n",
    "        for word, freq in self.cnt_x_not_spam.items():\n",
    "            P_x_y =  (self.delta + freq) / (self.delta * len(self.vocab) + amt_words_in_not_spam)\n",
    "            if P_x_y > self.minP:\n",
    "                self.P_x_y_NOTspam[word] = P_x_y \n",
    "                \n",
    "    def predict(self, X):\n",
    "        ans = []\n",
    "        for text in X:\n",
    "            logS_spam = np.log(self.P_class['spam'])\n",
    "            logS_notSpam = np.log(self.P_class['ham'])\n",
    "            for word in text:\n",
    "                if word in self.P_x_y_spam:\n",
    "                    logS_spam += np.log(self.P_x_y_spam[word])\n",
    "                if word in self.P_x_y_NOTspam:\n",
    "                    logS_notSpam += np.log(self.P_x_y_NOTspam[word])\n",
    "            if logS_spam > logS_notSpam:\n",
    "                ans.append(1)\n",
    "            else:\n",
    "                ans.append(0)\n",
    "        return ans\n"
   ]
  },
  {
   "cell_type": "code",
   "execution_count": 134,
   "id": "b3278018",
   "metadata": {},
   "outputs": [],
   "source": [
    "NB_clf = NaiveBayes()\n",
    "NB_clf.fit(X_train, Y_train)"
   ]
  },
  {
   "cell_type": "code",
   "execution_count": 135,
   "id": "e438abbb",
   "metadata": {},
   "outputs": [],
   "source": [
    "y_pred = NB_clf.predict(X_test)"
   ]
  },
  {
   "cell_type": "code",
   "execution_count": 136,
   "id": "88e3d876",
   "metadata": {},
   "outputs": [],
   "source": [
    "def evaluate_model(y_true, y_pred, model_name=\"Model\"):\n",
    "    results = {}\n",
    "    \n",
    "    precision = precision_score(y_true, y_pred)\n",
    "    recall = recall_score(y_true, y_pred)\n",
    "    f1 = f1_score(y_true, y_pred)\n",
    "    accuracy = accuracy_score(y_true, y_pred)\n",
    "    results['Precision'] = precision\n",
    "    results['Recall'] = recall\n",
    "    results['F1'] = f1\n",
    "    results['Accuracy'] = accuracy\n",
    "\n",
    "    print(\"result of \" + model_name)\n",
    "    for metric, value in results.items():\n",
    "        print(metric, value)\n",
    "    return results\n"
   ]
  },
  {
   "cell_type": "code",
   "execution_count": 138,
   "id": "793268ed",
   "metadata": {},
   "outputs": [
    {
     "name": "stdout",
     "output_type": "stream",
     "text": [
      "result of NaiveBayes\n",
      "Precision 0.5085492227979275\n",
      "Recall 0.44705078569801865\n",
      "F1 0.47582111259241305\n",
      "Accuracy 0.481725584182145\n"
     ]
    }
   ],
   "source": [
    "SelfNB_results = evaluate_model(Y_test, y_pred, 'NaiveBayes')"
   ]
  },
  {
   "cell_type": "code",
   "execution_count": null,
   "id": "6d2b34ca",
   "metadata": {},
   "outputs": [],
   "source": []
  }
 ],
 "metadata": {
  "kernelspec": {
   "display_name": "classicalML",
   "language": "python",
   "name": "python3"
  },
  "language_info": {
   "codemirror_mode": {
    "name": "ipython",
    "version": 3
   },
   "file_extension": ".py",
   "mimetype": "text/x-python",
   "name": "python",
   "nbconvert_exporter": "python",
   "pygments_lexer": "ipython3",
   "version": "3.13.7"
  }
 },
 "nbformat": 4,
 "nbformat_minor": 5
}
